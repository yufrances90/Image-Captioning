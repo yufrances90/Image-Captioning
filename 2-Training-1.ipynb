{
 "cells": [
  {
   "cell_type": "markdown",
   "metadata": {},
   "source": [
    "## Step 1: Training Setup"
   ]
  },
  {
   "cell_type": "code",
   "execution_count": 1,
   "metadata": {},
   "outputs": [],
   "source": [
    "import torch\n",
    "import torch.nn as nn\n",
    "import math\n",
    "import torch.utils.data as data\n",
    "import numpy as np\n",
    "import os\n",
    "import requests\n",
    "import time\n",
    "import sys\n",
    "\n",
    "from torchvision import transforms\n",
    "from pycocotools.coco import COCO\n",
    "\n",
    "from utils.data_loader import get_loader\n",
    "from utils.model import EncoderCNN, DecoderRNN"
   ]
  },
  {
   "cell_type": "code",
   "execution_count": 2,
   "metadata": {},
   "outputs": [],
   "source": [
    "## Select appropriate values for the Python variables below.\n",
    "batch_size = 32          # batch size\n",
    "vocab_threshold = 5        # minimum word count threshold\n",
    "vocab_from_file = True    # if True, load existing vocab file\n",
    "embed_size = 512           # dimensionality of image and word embeddings\n",
    "hidden_size = 512          # number of features in hidden state of the RNN decoder\n",
    "num_epochs = 3             # number of training epochs\n",
    "save_every = 100             # determines frequency of saving model weights\n",
    "print_every = 100          # determines window for printing average loss\n",
    "log_file = 'logs/training_log.txt'       # name of file with saved training loss and perplexity"
   ]
  },
  {
   "cell_type": "code",
   "execution_count": 3,
   "metadata": {},
   "outputs": [],
   "source": [
    "clip_value = 2             # the maximum gradient value for clipping\n",
    "num_layers = 3 "
   ]
  },
  {
   "cell_type": "code",
   "execution_count": 4,
   "metadata": {},
   "outputs": [],
   "source": [
    "# Amend the image transform below.\n",
    "transform_train = transforms.Compose([ \n",
    "    transforms.Resize(256),                          # smaller edge of image resized to 256\n",
    "    transforms.RandomCrop(224),                      # get 224x224 crop from random location\n",
    "    transforms.RandomHorizontalFlip(),               # horizontally flip image with probability=0.5\n",
    "    transforms.ToTensor(),                           # convert the PIL Image to a tensor\n",
    "    transforms.Normalize((0.485, 0.456, 0.406),      # normalize image for pre-trained model\n",
    "                         (0.229, 0.224, 0.225))])"
   ]
  },
  {
   "cell_type": "code",
   "execution_count": 5,
   "metadata": {},
   "outputs": [
    {
     "name": "stdout",
     "output_type": "stream",
     "text": [
      "Vocabulary successfully loaded from vocab.pkl file!\n",
      "loading annotations into memory...\n",
      "Done (t=0.64s)\n",
      "creating index...\n",
      "index created!\n",
      "Obtaining caption lengths...\n"
     ]
    },
    {
     "data": {
      "application/vnd.jupyter.widget-view+json": {
       "model_id": "e010720668c54d39b8afbe2bccbdf12b",
       "version_major": 2,
       "version_minor": 0
      },
      "text/plain": [
       "HBox(children=(FloatProgress(value=0.0, max=414113.0), HTML(value='')))"
      ]
     },
     "metadata": {},
     "output_type": "display_data"
    },
    {
     "name": "stdout",
     "output_type": "stream",
     "text": [
      "\n"
     ]
    }
   ],
   "source": [
    "# Build data loader.\n",
    "data_loader = get_loader(transform=transform_train,\n",
    "                         mode='train',\n",
    "                         batch_size=batch_size,\n",
    "                         vocab_threshold=vocab_threshold,\n",
    "                         vocab_from_file=vocab_from_file)"
   ]
  },
  {
   "cell_type": "code",
   "execution_count": 6,
   "metadata": {},
   "outputs": [],
   "source": [
    "# The size of the vocabulary.\n",
    "vocab_size = len(data_loader.dataset.vocab)"
   ]
  },
  {
   "cell_type": "code",
   "execution_count": 7,
   "metadata": {},
   "outputs": [],
   "source": [
    "# Initialize the encoder and decoder. \n",
    "encoder = EncoderCNN(embed_size)\n",
    "decoder = DecoderRNN(embed_size, hidden_size, vocab_size, num_layers)"
   ]
  },
  {
   "cell_type": "code",
   "execution_count": 8,
   "metadata": {},
   "outputs": [
    {
     "data": {
      "text/plain": [
       "DecoderRNN(\n",
       "  (embedding): Embedding(9955, 512)\n",
       "  (lstm): LSTM(512, 512, num_layers=3, batch_first=True)\n",
       "  (fc): Linear(in_features=512, out_features=9955, bias=True)\n",
       ")"
      ]
     },
     "execution_count": 8,
     "metadata": {},
     "output_type": "execute_result"
    }
   ],
   "source": [
    "# Move models to GPU if CUDA is available. \n",
    "device = torch.device(\"cuda\" if torch.cuda.is_available() else \"cpu\")\n",
    "encoder.to(device)\n",
    "decoder.to(device)"
   ]
  },
  {
   "cell_type": "code",
   "execution_count": 9,
   "metadata": {},
   "outputs": [],
   "source": [
    "# Define the loss function. \n",
    "criterion = nn.CrossEntropyLoss().cuda() if torch.cuda.is_available() else nn.CrossEntropyLoss()"
   ]
  },
  {
   "cell_type": "code",
   "execution_count": 10,
   "metadata": {},
   "outputs": [],
   "source": [
    "# Specify the learnable parameters of the model.\n",
    "params = list(decoder.parameters()) + list(encoder.embed.parameters())"
   ]
  },
  {
   "cell_type": "code",
   "execution_count": 11,
   "metadata": {},
   "outputs": [],
   "source": [
    "# Define the optimizer.\n",
    "optimizer = torch.optim.Adam(params, lr=0.003)"
   ]
  },
  {
   "cell_type": "code",
   "execution_count": 12,
   "metadata": {},
   "outputs": [],
   "source": [
    "# Set the total number of training steps per epoch.\n",
    "total_step = math.ceil(len(data_loader.dataset.caption_lengths) / data_loader.batch_sampler.batch_size)"
   ]
  },
  {
   "cell_type": "markdown",
   "metadata": {},
   "source": [
    "## Step 2: Train your Model"
   ]
  },
  {
   "cell_type": "code",
   "execution_count": 13,
   "metadata": {},
   "outputs": [],
   "source": [
    "f = open(log_file, 'w')"
   ]
  },
  {
   "cell_type": "code",
   "execution_count": null,
   "metadata": {},
   "outputs": [
    {
     "name": "stdout",
     "output_type": "stream",
     "text": [
      "Epoch [1/3], Step [100/12942], Loss: 4.5127, Perplexity: 91.1654\n",
      "Epoch [1/3], Step [200/12942], Loss: 4.4598, Perplexity: 86.47393\n",
      "Epoch [1/3], Step [300/12942], Loss: 4.3214, Perplexity: 75.29472\n",
      "Epoch [1/3], Step [400/12942], Loss: 3.6646, Perplexity: 39.04097\n",
      "Epoch [1/3], Step [500/12942], Loss: 3.9778, Perplexity: 53.40171\n",
      "Epoch [1/3], Step [600/12942], Loss: 3.9036, Perplexity: 49.5790\n",
      "Epoch [1/3], Step [700/12942], Loss: 4.3871, Perplexity: 80.4065\n",
      "Epoch [1/3], Step [800/12942], Loss: 3.1655, Perplexity: 23.70127\n",
      "Epoch [1/3], Step [900/12942], Loss: 4.0322, Perplexity: 56.3853\n",
      "Epoch [1/3], Step [1000/12942], Loss: 3.3926, Perplexity: 29.7434\n",
      "Epoch [1/3], Step [1100/12942], Loss: 3.6995, Perplexity: 40.4253\n",
      "Epoch [1/3], Step [1200/12942], Loss: 3.1487, Perplexity: 23.30663\n",
      "Epoch [1/3], Step [1300/12942], Loss: 3.0449, Perplexity: 21.00890\n",
      "Epoch [1/3], Step [1400/12942], Loss: 2.8780, Perplexity: 17.7790\n",
      "Epoch [1/3], Step [1500/12942], Loss: 3.1136, Perplexity: 22.5011\n",
      "Epoch [1/3], Step [1600/12942], Loss: 3.6701, Perplexity: 39.2574\n",
      "Epoch [1/3], Step [1700/12942], Loss: 2.9180, Perplexity: 18.50375\n",
      "Epoch [1/3], Step [1800/12942], Loss: 3.2878, Perplexity: 26.7830\n",
      "Epoch [1/3], Step [1900/12942], Loss: 3.2552, Perplexity: 25.92487\n",
      "Epoch [1/3], Step [2000/12942], Loss: 2.6792, Perplexity: 14.5740\n",
      "Epoch [1/3], Step [2100/12942], Loss: 3.4548, Perplexity: 31.6524\n",
      "Epoch [1/3], Step [2200/12942], Loss: 2.8014, Perplexity: 16.4673\n",
      "Epoch [1/3], Step [2300/12942], Loss: 2.8578, Perplexity: 17.4226\n",
      "Epoch [1/3], Step [2400/12942], Loss: 2.9719, Perplexity: 19.5282\n",
      "Epoch [1/3], Step [2500/12942], Loss: 2.7331, Perplexity: 15.3813\n",
      "Epoch [1/3], Step [2600/12942], Loss: 2.9051, Perplexity: 18.2663\n",
      "Epoch [1/3], Step [2700/12942], Loss: 2.8700, Perplexity: 17.63717\n",
      "Epoch [1/3], Step [2800/12942], Loss: 3.0616, Perplexity: 21.3619\n",
      "Epoch [1/3], Step [2900/12942], Loss: 2.6868, Perplexity: 14.6840\n",
      "Epoch [1/3], Step [3000/12942], Loss: 2.9344, Perplexity: 18.8100\n",
      "Epoch [1/3], Step [3100/12942], Loss: 3.0388, Perplexity: 20.8803\n",
      "Epoch [1/3], Step [3200/12942], Loss: 2.7375, Perplexity: 15.4487\n",
      "Epoch [1/3], Step [3300/12942], Loss: 2.5571, Perplexity: 12.8988\n",
      "Epoch [1/3], Step [3400/12942], Loss: 2.8684, Perplexity: 17.6088\n",
      "Epoch [1/3], Step [3500/12942], Loss: 2.4532, Perplexity: 11.62601\n",
      "Epoch [1/3], Step [3600/12942], Loss: 2.7286, Perplexity: 15.3111\n",
      "Epoch [1/3], Step [3700/12942], Loss: 3.0723, Perplexity: 21.59194\n",
      "Epoch [1/3], Step [3800/12942], Loss: 2.8330, Perplexity: 16.99706\n",
      "Epoch [1/3], Step [3900/12942], Loss: 2.5884, Perplexity: 13.3087\n",
      "Epoch [1/3], Step [4000/12942], Loss: 2.6397, Perplexity: 14.0087\n",
      "Epoch [1/3], Step [4100/12942], Loss: 2.9391, Perplexity: 18.8985\n",
      "Epoch [1/3], Step [4200/12942], Loss: 2.5308, Perplexity: 12.5635\n",
      "Epoch [1/3], Step [4300/12942], Loss: 2.6732, Perplexity: 14.4859\n",
      "Epoch [1/3], Step [4400/12942], Loss: 2.4215, Perplexity: 11.2622\n",
      "Epoch [1/3], Step [4500/12942], Loss: 2.8942, Perplexity: 18.0686\n",
      "Epoch [1/3], Step [4600/12942], Loss: 2.7720, Perplexity: 15.9910\n",
      "Epoch [1/3], Step [4700/12942], Loss: 2.8867, Perplexity: 17.9347\n",
      "Epoch [1/3], Step [4800/12942], Loss: 2.6807, Perplexity: 14.5958\n",
      "Epoch [1/3], Step [4900/12942], Loss: 2.6782, Perplexity: 14.5593\n",
      "Epoch [1/3], Step [5000/12942], Loss: 2.4516, Perplexity: 11.6063\n",
      "Epoch [1/3], Step [5100/12942], Loss: 2.7162, Perplexity: 15.1224\n",
      "Epoch [1/3], Step [5200/12942], Loss: 2.8751, Perplexity: 17.7265\n",
      "Epoch [1/3], Step [5300/12942], Loss: 2.3739, Perplexity: 10.7392\n",
      "Epoch [1/3], Step [5400/12942], Loss: 2.4956, Perplexity: 12.1291\n",
      "Epoch [1/3], Step [5500/12942], Loss: 2.6793, Perplexity: 14.5744\n",
      "Epoch [1/3], Step [5600/12942], Loss: 2.6090, Perplexity: 13.5861\n",
      "Epoch [1/3], Step [5700/12942], Loss: 2.4242, Perplexity: 11.2927\n",
      "Epoch [1/3], Step [5800/12942], Loss: 2.2484, Perplexity: 9.47210\n",
      "Epoch [1/3], Step [5900/12942], Loss: 2.7853, Perplexity: 16.2039\n",
      "Epoch [1/3], Step [6000/12942], Loss: 3.2058, Perplexity: 24.67584\n",
      "Epoch [1/3], Step [6100/12942], Loss: 2.7362, Perplexity: 15.4276\n",
      "Epoch [1/3], Step [6200/12942], Loss: 2.4051, Perplexity: 11.0792\n",
      "Epoch [1/3], Step [6300/12942], Loss: 2.5009, Perplexity: 12.1937\n",
      "Epoch [1/3], Step [6400/12942], Loss: 2.3237, Perplexity: 10.2138\n",
      "Epoch [1/3], Step [6500/12942], Loss: 2.7431, Perplexity: 15.5358\n",
      "Epoch [1/3], Step [6600/12942], Loss: 2.6397, Perplexity: 14.0096\n",
      "Epoch [1/3], Step [6700/12942], Loss: 2.2594, Perplexity: 9.57773\n",
      "Epoch [1/3], Step [6800/12942], Loss: 2.7553, Perplexity: 15.7258\n",
      "Epoch [1/3], Step [6900/12942], Loss: 2.5834, Perplexity: 13.2425\n",
      "Epoch [1/3], Step [7000/12942], Loss: 2.5162, Perplexity: 12.3821\n",
      "Epoch [1/3], Step [7100/12942], Loss: 2.3885, Perplexity: 10.8969\n",
      "Epoch [1/3], Step [7200/12942], Loss: 2.9043, Perplexity: 18.2520\n",
      "Epoch [1/3], Step [7300/12942], Loss: 2.4211, Perplexity: 11.2578\n",
      "Epoch [1/3], Step [7400/12942], Loss: 2.3781, Perplexity: 10.7845\n",
      "Epoch [1/3], Step [7500/12942], Loss: 2.4902, Perplexity: 12.0642\n",
      "Epoch [1/3], Step [7600/12942], Loss: 2.5073, Perplexity: 12.2714\n",
      "Epoch [1/3], Step [7700/12942], Loss: 2.1386, Perplexity: 8.48751\n",
      "Epoch [1/3], Step [7800/12942], Loss: 2.1188, Perplexity: 8.32129\n",
      "Epoch [1/3], Step [7900/12942], Loss: 2.6067, Perplexity: 13.5542\n",
      "Epoch [1/3], Step [8000/12942], Loss: 2.5680, Perplexity: 13.0397\n",
      "Epoch [1/3], Step [8100/12942], Loss: 2.3319, Perplexity: 10.29726\n",
      "Epoch [1/3], Step [8200/12942], Loss: 2.3820, Perplexity: 10.8268\n",
      "Epoch [1/3], Step [8300/12942], Loss: 2.0928, Perplexity: 8.10808\n",
      "Epoch [1/3], Step [8400/12942], Loss: 2.3119, Perplexity: 10.0938\n",
      "Epoch [1/3], Step [8500/12942], Loss: 2.4129, Perplexity: 11.1658\n",
      "Epoch [1/3], Step [8600/12942], Loss: 2.1822, Perplexity: 8.86596\n",
      "Epoch [1/3], Step [8700/12942], Loss: 2.5265, Perplexity: 12.5092\n",
      "Epoch [1/3], Step [8800/12942], Loss: 2.4924, Perplexity: 12.0906\n",
      "Epoch [1/3], Step [8900/12942], Loss: 3.0294, Perplexity: 20.6842\n",
      "Epoch [1/3], Step [9000/12942], Loss: 2.4447, Perplexity: 11.5267\n",
      "Epoch [1/3], Step [9100/12942], Loss: 2.4084, Perplexity: 11.1166\n",
      "Epoch [1/3], Step [9200/12942], Loss: 2.8416, Perplexity: 17.1424\n",
      "Epoch [1/3], Step [9300/12942], Loss: 2.7355, Perplexity: 15.4181\n",
      "Epoch [1/3], Step [9400/12942], Loss: 2.4594, Perplexity: 11.6976\n",
      "Epoch [1/3], Step [9500/12942], Loss: 2.2687, Perplexity: 9.66679\n",
      "Epoch [1/3], Step [9600/12942], Loss: 2.2273, Perplexity: 9.27463\n",
      "Epoch [1/3], Step [9700/12942], Loss: 2.2458, Perplexity: 9.44813\n",
      "Epoch [1/3], Step [9800/12942], Loss: 3.0217, Perplexity: 20.5264\n",
      "Epoch [1/3], Step [9900/12942], Loss: 2.1518, Perplexity: 8.60060\n",
      "Epoch [1/3], Step [10000/12942], Loss: 2.3277, Perplexity: 10.2541\n",
      "Epoch [1/3], Step [10100/12942], Loss: 2.2724, Perplexity: 9.70314\n",
      "Epoch [1/3], Step [10200/12942], Loss: 2.3856, Perplexity: 10.8654\n",
      "Epoch [1/3], Step [10300/12942], Loss: 2.4097, Perplexity: 11.1303\n",
      "Epoch [1/3], Step [10400/12942], Loss: 2.4912, Perplexity: 12.0755\n",
      "Epoch [1/3], Step [10500/12942], Loss: 2.3629, Perplexity: 10.6215\n",
      "Epoch [1/3], Step [10600/12942], Loss: 1.9347, Perplexity: 6.92223\n",
      "Epoch [1/3], Step [10700/12942], Loss: 2.5303, Perplexity: 12.5568\n",
      "Epoch [1/3], Step [10800/12942], Loss: 2.3988, Perplexity: 11.0103\n",
      "Epoch [1/3], Step [10900/12942], Loss: 2.6164, Perplexity: 13.6865\n",
      "Epoch [1/3], Step [11000/12942], Loss: 2.5770, Perplexity: 13.1575\n",
      "Epoch [1/3], Step [11100/12942], Loss: 2.3351, Perplexity: 10.3302\n",
      "Epoch [1/3], Step [11200/12942], Loss: 2.6244, Perplexity: 13.7963\n",
      "Epoch [1/3], Step [11300/12942], Loss: 2.5983, Perplexity: 13.4410\n",
      "Epoch [1/3], Step [11400/12942], Loss: 2.3310, Perplexity: 10.2887\n",
      "Epoch [1/3], Step [11500/12942], Loss: 2.3891, Perplexity: 10.9037\n",
      "Epoch [1/3], Step [11600/12942], Loss: 2.6174, Perplexity: 13.7002\n",
      "Epoch [1/3], Step [11700/12942], Loss: 2.5134, Perplexity: 12.3470\n",
      "Epoch [1/3], Step [11800/12942], Loss: 2.2604, Perplexity: 9.58702\n",
      "Epoch [1/3], Step [11900/12942], Loss: 2.0577, Perplexity: 7.82818\n",
      "Epoch [1/3], Step [12000/12942], Loss: 2.0581, Perplexity: 7.83112\n",
      "Epoch [1/3], Step [12100/12942], Loss: 2.4172, Perplexity: 11.2144\n",
      "Epoch [1/3], Step [12200/12942], Loss: 2.2684, Perplexity: 9.66438\n",
      "Epoch [1/3], Step [12300/12942], Loss: 2.0884, Perplexity: 8.07189\n",
      "Epoch [1/3], Step [12400/12942], Loss: 2.4428, Perplexity: 11.5055\n",
      "Epoch [1/3], Step [12500/12942], Loss: 2.0762, Perplexity: 7.97434\n",
      "Epoch [1/3], Step [12600/12942], Loss: 2.1348, Perplexity: 8.45570\n",
      "Epoch [1/3], Step [12700/12942], Loss: 2.1906, Perplexity: 8.94038\n",
      "Epoch [1/3], Step [12800/12942], Loss: 2.3692, Perplexity: 10.6884\n",
      "Epoch [1/3], Step [12900/12942], Loss: 2.6030, Perplexity: 13.5044\n",
      "Epoch [2/3], Step [100/12942], Loss: 2.8027, Perplexity: 16.488908\n",
      "Epoch [2/3], Step [200/12942], Loss: 2.6458, Perplexity: 14.0943\n",
      "Epoch [2/3], Step [300/12942], Loss: 2.1877, Perplexity: 8.91469\n",
      "Epoch [2/3], Step [400/12942], Loss: 2.2251, Perplexity: 9.254716\n",
      "Epoch [2/3], Step [500/12942], Loss: 2.4073, Perplexity: 11.1043\n",
      "Epoch [2/3], Step [600/12942], Loss: 2.3813, Perplexity: 10.8185\n",
      "Epoch [2/3], Step [700/12942], Loss: 2.2706, Perplexity: 9.68496\n",
      "Epoch [2/3], Step [800/12942], Loss: 2.3475, Perplexity: 10.4593\n",
      "Epoch [2/3], Step [900/12942], Loss: 2.7470, Perplexity: 15.5959\n",
      "Epoch [2/3], Step [1000/12942], Loss: 2.1987, Perplexity: 9.0129\n",
      "Epoch [2/3], Step [1100/12942], Loss: 2.0276, Perplexity: 7.59613\n",
      "Epoch [2/3], Step [1200/12942], Loss: 2.1708, Perplexity: 8.76490\n",
      "Epoch [2/3], Step [1300/12942], Loss: 2.0994, Perplexity: 8.16135\n",
      "Epoch [2/3], Step [1400/12942], Loss: 2.4332, Perplexity: 11.3950\n",
      "Epoch [2/3], Step [1500/12942], Loss: 2.0931, Perplexity: 8.11034\n",
      "Epoch [2/3], Step [1564/12942], Loss: 2.2213, Perplexity: 9.219427"
     ]
    }
   ],
   "source": [
    "for epoch in range(1, num_epochs+1):\n",
    "    \n",
    "    for i_step in range(1, total_step+1):\n",
    "        \n",
    "        # Randomly sample a caption length, and sample indices with that length.\n",
    "        indices = data_loader.dataset.get_train_indices()\n",
    "        # Create and assign a batch sampler to retrieve a batch with the sampled indices.\n",
    "        new_sampler = data.sampler.SubsetRandomSampler(indices=indices)\n",
    "        data_loader.batch_sampler.sampler = new_sampler\n",
    "        \n",
    "        # Obtain the batch.\n",
    "        images, captions = next(iter(data_loader))\n",
    "\n",
    "        # Move batch of images and captions to GPU if CUDA is available.\n",
    "        images = images.to(device)\n",
    "        captions = captions.to(device)\n",
    "        \n",
    "        # Zero the gradients.\n",
    "        decoder.zero_grad()\n",
    "        encoder.zero_grad()\n",
    "        \n",
    "        # Pass the inputs through the CNN-RNN model.\n",
    "        features = encoder(images)\n",
    "        outputs = decoder(features, captions)\n",
    "        \n",
    "        # Calculate the batch loss.\n",
    "        loss = criterion(outputs.view(-1, vocab_size), captions.view(-1))\n",
    "        \n",
    "        # Backward pass.\n",
    "        loss.backward()\n",
    "        \n",
    "        torch.nn.utils.clip_grad_value_(decoder.parameters(), clip_value)\n",
    "        \n",
    "        # Update the parameters in the optimizer.\n",
    "        optimizer.step()\n",
    "            \n",
    "        # Get training statistics.\n",
    "        stats = 'Epoch [%d/%d], Step [%d/%d], Loss: %.4f, Perplexity: %5.4f' % (epoch, num_epochs, i_step, total_step, loss.item(), np.exp(loss.item()))\n",
    "        \n",
    "        # Print training statistics (on same line).\n",
    "        print('\\r' + stats, end=\"\")\n",
    "        sys.stdout.flush()\n",
    "        \n",
    "        # Print training statistics to file.\n",
    "        f.write(stats + '\\n')\n",
    "        f.flush()\n",
    "        \n",
    "        # Print training statistics (on different line).\n",
    "        if i_step % print_every == 0:\n",
    "            print('\\r' + stats)\n",
    "            \n",
    "        # Save the weights.\n",
    "        if i_step % save_every == 0:\n",
    "            torch.save(decoder.state_dict(), os.path.join('./models', 'decoder-%d.pkl' % epoch))\n",
    "            torch.save(encoder.state_dict(), os.path.join('./models', 'encoder-%d.pkl' % epoch))\n",
    "\n",
    "# Close the training log file.\n",
    "f.close()"
   ]
  },
  {
   "cell_type": "code",
   "execution_count": null,
   "metadata": {},
   "outputs": [],
   "source": []
  }
 ],
 "metadata": {
  "environment": {
   "name": "tf2-gpu.2-1.m48",
   "type": "gcloud",
   "uri": "gcr.io/deeplearning-platform-release/tf2-gpu.2-1:m48"
  },
  "kernelspec": {
   "display_name": "Python 3",
   "language": "python",
   "name": "python3"
  },
  "language_info": {
   "codemirror_mode": {
    "name": "ipython",
    "version": 3
   },
   "file_extension": ".py",
   "mimetype": "text/x-python",
   "name": "python",
   "nbconvert_exporter": "python",
   "pygments_lexer": "ipython3",
   "version": "3.7.6"
  }
 },
 "nbformat": 4,
 "nbformat_minor": 4
}
