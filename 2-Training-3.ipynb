{
 "cells": [
  {
   "cell_type": "markdown",
   "metadata": {},
   "source": [
    "## Step 1: Training Setup"
   ]
  },
  {
   "cell_type": "code",
   "execution_count": 1,
   "metadata": {},
   "outputs": [],
   "source": [
    "import torch\n",
    "import torch.nn as nn\n",
    "import math\n",
    "import torch.utils.data as data\n",
    "import numpy as np\n",
    "import os\n",
    "import requests\n",
    "import time\n",
    "import sys\n",
    "\n",
    "from torchvision import transforms\n",
    "from pycocotools.coco import COCO\n",
    "\n",
    "from utils.data_loader import get_loader\n",
    "from utils.model import EncoderCNN, DecoderRNN"
   ]
  },
  {
   "cell_type": "code",
   "execution_count": 2,
   "metadata": {},
   "outputs": [],
   "source": [
    "## Select appropriate values for the Python variables below.\n",
    "batch_size = 32          # batch size\n",
    "vocab_threshold = 5        # minimum word count threshold\n",
    "vocab_from_file = True    # if True, load existing vocab file\n",
    "embed_size = 512           # dimensionality of image and word embeddings\n",
    "hidden_size = 512          # number of features in hidden state of the RNN decoder\n",
    "num_epochs = 3             # number of training epochs\n",
    "save_every = 100             # determines frequency of saving model weights\n",
    "print_every = 100          # determines window for printing average loss\n",
    "log_file = 'logs/training_log_2.txt'       # name of file with saved training loss and perplexity"
   ]
  },
  {
   "cell_type": "code",
   "execution_count": 3,
   "metadata": {},
   "outputs": [],
   "source": [
    "clip_value = 2             # the maximum gradient value for clipping\n",
    "num_layers = 3 "
   ]
  },
  {
   "cell_type": "code",
   "execution_count": 4,
   "metadata": {},
   "outputs": [],
   "source": [
    "# Amend the image transform below.\n",
    "transform_train = transforms.Compose([ \n",
    "    transforms.Resize(256),                          # smaller edge of image resized to 256\n",
    "    transforms.RandomCrop(224),                      # get 224x224 crop from random location\n",
    "    transforms.RandomHorizontalFlip(),               # horizontally flip image with probability=0.5\n",
    "    transforms.ToTensor(),                           # convert the PIL Image to a tensor\n",
    "    transforms.Normalize((0.485, 0.456, 0.406),      # normalize image for pre-trained model\n",
    "                         (0.229, 0.224, 0.225))])"
   ]
  },
  {
   "cell_type": "code",
   "execution_count": 5,
   "metadata": {},
   "outputs": [
    {
     "name": "stdout",
     "output_type": "stream",
     "text": [
      "Vocabulary successfully loaded from vocab.pkl file!\n",
      "loading annotations into memory...\n",
      "Done (t=1.37s)\n",
      "creating index...\n",
      "index created!\n",
      "Obtaining caption lengths...\n"
     ]
    },
    {
     "data": {
      "application/vnd.jupyter.widget-view+json": {
       "model_id": "c475c0642b0142df88c0e2718050d7e6",
       "version_major": 2,
       "version_minor": 0
      },
      "text/plain": [
       "HBox(children=(FloatProgress(value=0.0, max=414113.0), HTML(value='')))"
      ]
     },
     "metadata": {},
     "output_type": "display_data"
    },
    {
     "name": "stdout",
     "output_type": "stream",
     "text": [
      "\n"
     ]
    }
   ],
   "source": [
    "# Build data loader.\n",
    "data_loader = get_loader(transform=transform_train,\n",
    "                         mode='train',\n",
    "                         batch_size=batch_size,\n",
    "                         vocab_threshold=vocab_threshold,\n",
    "                         vocab_from_file=vocab_from_file)"
   ]
  },
  {
   "cell_type": "code",
   "execution_count": 6,
   "metadata": {},
   "outputs": [],
   "source": [
    "# The size of the vocabulary.\n",
    "vocab_size = len(data_loader.dataset.vocab)"
   ]
  },
  {
   "cell_type": "code",
   "execution_count": 7,
   "metadata": {},
   "outputs": [],
   "source": [
    "# Initialize the encoder and decoder. \n",
    "encoder = EncoderCNN(embed_size)\n",
    "decoder = DecoderRNN(embed_size, hidden_size, vocab_size, num_layers)"
   ]
  },
  {
   "cell_type": "code",
   "execution_count": 8,
   "metadata": {},
   "outputs": [
    {
     "data": {
      "text/plain": [
       "<All keys matched successfully>"
      ]
     },
     "execution_count": 8,
     "metadata": {},
     "output_type": "execute_result"
    }
   ],
   "source": [
    "# Load the trained weights.\n",
    "encoder.load_state_dict(torch.load('./models/encoder-3.pkl'))\n",
    "decoder.load_state_dict(torch.load('./models/decoder-3.pkl'))"
   ]
  },
  {
   "cell_type": "code",
   "execution_count": 9,
   "metadata": {},
   "outputs": [
    {
     "data": {
      "text/plain": [
       "DecoderRNN(\n",
       "  (embedding): Embedding(9955, 512)\n",
       "  (lstm): LSTM(512, 512, num_layers=3, batch_first=True)\n",
       "  (fc): Linear(in_features=512, out_features=9955, bias=True)\n",
       ")"
      ]
     },
     "execution_count": 9,
     "metadata": {},
     "output_type": "execute_result"
    }
   ],
   "source": [
    "# Move models to GPU if CUDA is available. \n",
    "device = torch.device(\"cuda\" if torch.cuda.is_available() else \"cpu\")\n",
    "encoder.to(device)\n",
    "decoder.to(device)"
   ]
  },
  {
   "cell_type": "code",
   "execution_count": 10,
   "metadata": {},
   "outputs": [],
   "source": [
    "# Define the loss function. \n",
    "criterion = nn.CrossEntropyLoss().cuda() if torch.cuda.is_available() else nn.CrossEntropyLoss()"
   ]
  },
  {
   "cell_type": "code",
   "execution_count": 11,
   "metadata": {},
   "outputs": [],
   "source": [
    "# Specify the learnable parameters of the model.\n",
    "params = list(decoder.parameters()) + list(encoder.embed.parameters())"
   ]
  },
  {
   "cell_type": "code",
   "execution_count": 12,
   "metadata": {},
   "outputs": [],
   "source": [
    "# Define the optimizer.\n",
    "optimizer = torch.optim.Adam(params, lr=0.003)"
   ]
  },
  {
   "cell_type": "code",
   "execution_count": 13,
   "metadata": {},
   "outputs": [],
   "source": [
    "# Set the total number of training steps per epoch.\n",
    "total_step = math.ceil(len(data_loader.dataset.caption_lengths) / data_loader.batch_sampler.batch_size)"
   ]
  },
  {
   "cell_type": "markdown",
   "metadata": {},
   "source": [
    "## Step 2: Train your Model"
   ]
  },
  {
   "cell_type": "code",
   "execution_count": 14,
   "metadata": {},
   "outputs": [],
   "source": [
    "f = open(log_file, 'w')"
   ]
  },
  {
   "cell_type": "code",
   "execution_count": 15,
   "metadata": {},
   "outputs": [
    {
     "name": "stdout",
     "output_type": "stream",
     "text": [
      "Epoch [3/3], Step [100/12942], Loss: 2.1846, Perplexity: 8.8870\n",
      "Epoch [3/3], Step [200/12942], Loss: 2.1471, Perplexity: 8.56004\n",
      "Epoch [3/3], Step [300/12942], Loss: 2.2987, Perplexity: 9.96091\n",
      "Epoch [3/3], Step [400/12942], Loss: 2.5213, Perplexity: 12.4451\n",
      "Epoch [3/3], Step [500/12942], Loss: 2.1132, Perplexity: 8.27493\n",
      "Epoch [3/3], Step [600/12942], Loss: 2.3283, Perplexity: 10.2602\n",
      "Epoch [3/3], Step [700/12942], Loss: 2.1786, Perplexity: 8.83360\n",
      "Epoch [3/3], Step [800/12942], Loss: 2.4615, Perplexity: 11.7222\n",
      "Epoch [3/3], Step [900/12942], Loss: 2.4042, Perplexity: 11.0695\n",
      "Epoch [3/3], Step [1000/12942], Loss: 1.8481, Perplexity: 6.3477\n",
      "Epoch [3/3], Step [1100/12942], Loss: 2.2758, Perplexity: 9.73606\n",
      "Epoch [3/3], Step [1200/12942], Loss: 2.2271, Perplexity: 9.27321\n",
      "Epoch [3/3], Step [1300/12942], Loss: 2.1168, Perplexity: 8.30464\n",
      "Epoch [3/3], Step [1400/12942], Loss: 2.3126, Perplexity: 10.1006\n",
      "Epoch [3/3], Step [1500/12942], Loss: 2.1319, Perplexity: 8.43117\n",
      "Epoch [3/3], Step [1600/12942], Loss: 2.1506, Perplexity: 8.59033\n",
      "Epoch [3/3], Step [1700/12942], Loss: 2.1093, Perplexity: 8.24227\n",
      "Epoch [3/3], Step [1800/12942], Loss: 1.9791, Perplexity: 7.23619\n",
      "Epoch [3/3], Step [1900/12942], Loss: 2.5545, Perplexity: 12.8644\n",
      "Epoch [3/3], Step [2000/12942], Loss: 2.2189, Perplexity: 9.19728\n",
      "Epoch [3/3], Step [2100/12942], Loss: 1.8768, Perplexity: 6.53233\n",
      "Epoch [3/3], Step [2200/12942], Loss: 2.1102, Perplexity: 8.24993\n",
      "Epoch [3/3], Step [2300/12942], Loss: 2.2196, Perplexity: 9.20390\n",
      "Epoch [3/3], Step [2400/12942], Loss: 2.2929, Perplexity: 9.90366\n",
      "Epoch [3/3], Step [2500/12942], Loss: 2.1865, Perplexity: 8.90407\n",
      "Epoch [3/3], Step [2600/12942], Loss: 2.1975, Perplexity: 9.00283\n",
      "Epoch [3/3], Step [2700/12942], Loss: 2.2649, Perplexity: 9.62997\n",
      "Epoch [3/3], Step [2800/12942], Loss: 2.1366, Perplexity: 8.47075\n",
      "Epoch [3/3], Step [2900/12942], Loss: 2.2811, Perplexity: 9.78749\n",
      "Epoch [3/3], Step [3000/12942], Loss: 2.0852, Perplexity: 8.04603\n",
      "Epoch [3/3], Step [3100/12942], Loss: 2.2252, Perplexity: 9.25504\n",
      "Epoch [3/3], Step [3200/12942], Loss: 2.1171, Perplexity: 8.30715\n",
      "Epoch [3/3], Step [3300/12942], Loss: 2.1523, Perplexity: 8.60455\n",
      "Epoch [3/3], Step [3400/12942], Loss: 2.1084, Perplexity: 8.23535\n",
      "Epoch [3/3], Step [3500/12942], Loss: 2.0497, Perplexity: 7.76563\n",
      "Epoch [3/3], Step [3600/12942], Loss: 2.1320, Perplexity: 8.43201\n",
      "Epoch [3/3], Step [3700/12942], Loss: 1.9947, Perplexity: 7.35016\n",
      "Epoch [3/3], Step [3800/12942], Loss: 2.7362, Perplexity: 15.4284\n",
      "Epoch [3/3], Step [3900/12942], Loss: 2.2139, Perplexity: 9.15187\n",
      "Epoch [3/3], Step [4000/12942], Loss: 2.3765, Perplexity: 10.7671\n",
      "Epoch [3/3], Step [4100/12942], Loss: 1.8918, Perplexity: 6.63118\n",
      "Epoch [3/3], Step [4200/12942], Loss: 2.0489, Perplexity: 7.75976\n",
      "Epoch [3/3], Step [4300/12942], Loss: 2.3902, Perplexity: 10.9159\n",
      "Epoch [3/3], Step [4400/12942], Loss: 2.0563, Perplexity: 7.81721\n",
      "Epoch [3/3], Step [4500/12942], Loss: 2.0379, Perplexity: 7.67433\n",
      "Epoch [3/3], Step [4600/12942], Loss: 2.1044, Perplexity: 8.20259\n",
      "Epoch [3/3], Step [4700/12942], Loss: 2.3502, Perplexity: 10.4876\n",
      "Epoch [3/3], Step [4800/12942], Loss: 2.4328, Perplexity: 11.3905\n",
      "Epoch [3/3], Step [4900/12942], Loss: 1.9694, Perplexity: 7.16627\n",
      "Epoch [3/3], Step [5000/12942], Loss: 2.1208, Perplexity: 8.33815\n",
      "Epoch [3/3], Step [5100/12942], Loss: 2.2188, Perplexity: 9.196648\n",
      "Epoch [3/3], Step [5200/12942], Loss: 2.2316, Perplexity: 9.31440\n",
      "Epoch [3/3], Step [5300/12942], Loss: 2.2720, Perplexity: 9.69924\n",
      "Epoch [3/3], Step [5400/12942], Loss: 2.1295, Perplexity: 8.41086\n",
      "Epoch [3/3], Step [5500/12942], Loss: 2.1724, Perplexity: 8.77898\n",
      "Epoch [3/3], Step [5600/12942], Loss: 2.2921, Perplexity: 9.89536\n",
      "Epoch [3/3], Step [5700/12942], Loss: 2.1944, Perplexity: 8.97460\n",
      "Epoch [3/3], Step [5800/12942], Loss: 2.3065, Perplexity: 10.0395\n",
      "Epoch [3/3], Step [5900/12942], Loss: 1.9930, Perplexity: 7.33737\n",
      "Epoch [3/3], Step [6000/12942], Loss: 2.3825, Perplexity: 10.8315\n",
      "Epoch [3/3], Step [6100/12942], Loss: 2.0811, Perplexity: 8.01306\n",
      "Epoch [3/3], Step [6200/12942], Loss: 2.2993, Perplexity: 9.96729\n",
      "Epoch [3/3], Step [6300/12942], Loss: 2.0479, Perplexity: 7.75179\n",
      "Epoch [3/3], Step [6400/12942], Loss: 2.1204, Perplexity: 8.33427\n",
      "Epoch [3/3], Step [6500/12942], Loss: 1.9740, Perplexity: 7.19932\n",
      "Epoch [3/3], Step [6600/12942], Loss: 2.0964, Perplexity: 8.13693\n",
      "Epoch [3/3], Step [6700/12942], Loss: 2.0835, Perplexity: 8.03283\n",
      "Epoch [3/3], Step [6800/12942], Loss: 2.1167, Perplexity: 8.30338\n",
      "Epoch [3/3], Step [6900/12942], Loss: 1.9444, Perplexity: 6.98913\n",
      "Epoch [3/3], Step [7000/12942], Loss: 1.9974, Perplexity: 7.37003\n",
      "Epoch [3/3], Step [7100/12942], Loss: 2.8213, Perplexity: 16.7988\n",
      "Epoch [3/3], Step [7200/12942], Loss: 1.9527, Perplexity: 7.04788\n",
      "Epoch [3/3], Step [7300/12942], Loss: 1.9650, Perplexity: 7.13508\n",
      "Epoch [3/3], Step [7400/12942], Loss: 2.1694, Perplexity: 8.75334\n",
      "Epoch [3/3], Step [7500/12942], Loss: 1.9526, Perplexity: 7.04679\n",
      "Epoch [3/3], Step [7600/12942], Loss: 2.2637, Perplexity: 9.61822\n",
      "Epoch [3/3], Step [7700/12942], Loss: 2.0129, Perplexity: 7.48497\n",
      "Epoch [3/3], Step [7800/12942], Loss: 1.9422, Perplexity: 6.97402\n",
      "Epoch [3/3], Step [7900/12942], Loss: 2.6213, Perplexity: 13.7534\n",
      "Epoch [3/3], Step [8000/12942], Loss: 2.0200, Perplexity: 7.53835\n",
      "Epoch [3/3], Step [8100/12942], Loss: 2.0418, Perplexity: 7.70485\n",
      "Epoch [3/3], Step [8200/12942], Loss: 2.9823, Perplexity: 19.7331\n",
      "Epoch [3/3], Step [8300/12942], Loss: 2.1672, Perplexity: 8.73375\n",
      "Epoch [3/3], Step [8400/12942], Loss: 2.0999, Perplexity: 8.16535\n",
      "Epoch [3/3], Step [8500/12942], Loss: 2.1582, Perplexity: 8.65512\n",
      "Epoch [3/3], Step [8600/12942], Loss: 2.2805, Perplexity: 9.78184\n",
      "Epoch [3/3], Step [8700/12942], Loss: 2.3698, Perplexity: 10.6947\n",
      "Epoch [3/3], Step [8800/12942], Loss: 1.8125, Perplexity: 6.12608\n",
      "Epoch [3/3], Step [8900/12942], Loss: 2.0092, Perplexity: 7.45772\n",
      "Epoch [3/3], Step [9000/12942], Loss: 2.4100, Perplexity: 11.1340\n",
      "Epoch [3/3], Step [9100/12942], Loss: 2.0325, Perplexity: 7.633239\n",
      "Epoch [3/3], Step [9200/12942], Loss: 1.9355, Perplexity: 6.92730\n",
      "Epoch [3/3], Step [9300/12942], Loss: 2.8029, Perplexity: 16.4928\n",
      "Epoch [3/3], Step [9400/12942], Loss: 2.0747, Perplexity: 7.96211\n",
      "Epoch [3/3], Step [9500/12942], Loss: 2.1690, Perplexity: 8.74993\n",
      "Epoch [3/3], Step [9600/12942], Loss: 1.9699, Perplexity: 7.17000\n",
      "Epoch [3/3], Step [9700/12942], Loss: 2.3501, Perplexity: 10.4871\n",
      "Epoch [3/3], Step [9800/12942], Loss: 2.6127, Perplexity: 13.6363\n",
      "Epoch [3/3], Step [9900/12942], Loss: 1.8682, Perplexity: 6.47648\n",
      "Epoch [3/3], Step [10000/12942], Loss: 2.3559, Perplexity: 10.5471\n",
      "Epoch [3/3], Step [10100/12942], Loss: 2.2606, Perplexity: 9.58893\n",
      "Epoch [3/3], Step [10200/12942], Loss: 1.7750, Perplexity: 5.90031\n",
      "Epoch [3/3], Step [10300/12942], Loss: 2.1070, Perplexity: 8.22377\n",
      "Epoch [3/3], Step [10400/12942], Loss: 2.2710, Perplexity: 9.68875\n",
      "Epoch [3/3], Step [10500/12942], Loss: 1.9455, Perplexity: 6.99722\n",
      "Epoch [3/3], Step [10600/12942], Loss: 2.1953, Perplexity: 8.98239\n",
      "Epoch [3/3], Step [10700/12942], Loss: 1.8446, Perplexity: 6.32560\n",
      "Epoch [3/3], Step [10800/12942], Loss: 1.9867, Perplexity: 7.29149\n",
      "Epoch [3/3], Step [10900/12942], Loss: 2.0086, Perplexity: 7.452993\n",
      "Epoch [3/3], Step [11000/12942], Loss: 2.0518, Perplexity: 7.78176\n",
      "Epoch [3/3], Step [11100/12942], Loss: 2.1322, Perplexity: 8.43348\n",
      "Epoch [3/3], Step [11200/12942], Loss: 1.8650, Perplexity: 6.45622\n",
      "Epoch [3/3], Step [11300/12942], Loss: 2.0558, Perplexity: 7.81297\n",
      "Epoch [3/3], Step [11400/12942], Loss: 2.6160, Perplexity: 13.6805\n",
      "Epoch [3/3], Step [11500/12942], Loss: 1.6968, Perplexity: 5.45632\n",
      "Epoch [3/3], Step [11600/12942], Loss: 2.0389, Perplexity: 7.68203\n",
      "Epoch [3/3], Step [11700/12942], Loss: 2.1228, Perplexity: 8.35425\n",
      "Epoch [3/3], Step [11800/12942], Loss: 2.2806, Perplexity: 9.78229\n",
      "Epoch [3/3], Step [11900/12942], Loss: 2.1798, Perplexity: 8.84474\n",
      "Epoch [3/3], Step [12000/12942], Loss: 2.5149, Perplexity: 12.3655\n",
      "Epoch [3/3], Step [12100/12942], Loss: 2.2680, Perplexity: 9.66037\n",
      "Epoch [3/3], Step [12200/12942], Loss: 2.2279, Perplexity: 9.28045\n",
      "Epoch [3/3], Step [12300/12942], Loss: 2.0484, Perplexity: 7.75592\n",
      "Epoch [3/3], Step [12400/12942], Loss: 2.2618, Perplexity: 9.60025\n",
      "Epoch [3/3], Step [12500/12942], Loss: 1.7744, Perplexity: 5.89657\n",
      "Epoch [3/3], Step [12600/12942], Loss: 1.9389, Perplexity: 6.95118\n",
      "Epoch [3/3], Step [12700/12942], Loss: 2.2016, Perplexity: 9.03914\n",
      "Epoch [3/3], Step [12800/12942], Loss: 1.9914, Perplexity: 7.32557\n",
      "Epoch [3/3], Step [12900/12942], Loss: 2.1287, Perplexity: 8.40430\n",
      "Epoch [3/3], Step [12942/12942], Loss: 2.0863, Perplexity: 8.05514"
     ]
    }
   ],
   "source": [
    "for epoch in range(3, num_epochs+1):\n",
    "    \n",
    "    for i_step in range(1, total_step+1):\n",
    "        \n",
    "        # Randomly sample a caption length, and sample indices with that length.\n",
    "        indices = data_loader.dataset.get_train_indices()\n",
    "        # Create and assign a batch sampler to retrieve a batch with the sampled indices.\n",
    "        new_sampler = data.sampler.SubsetRandomSampler(indices=indices)\n",
    "        data_loader.batch_sampler.sampler = new_sampler\n",
    "        \n",
    "        # Obtain the batch.\n",
    "        images, captions = next(iter(data_loader))\n",
    "\n",
    "        # Move batch of images and captions to GPU if CUDA is available.\n",
    "        images = images.to(device)\n",
    "        captions = captions.to(device)\n",
    "        \n",
    "        # Zero the gradients.\n",
    "        decoder.zero_grad()\n",
    "        encoder.zero_grad()\n",
    "        \n",
    "        # Pass the inputs through the CNN-RNN model.\n",
    "        features = encoder(images)\n",
    "        outputs = decoder(features, captions)\n",
    "        \n",
    "        # Calculate the batch loss.\n",
    "        loss = criterion(outputs.view(-1, vocab_size), captions.view(-1))\n",
    "        \n",
    "        # Backward pass.\n",
    "        loss.backward()\n",
    "        \n",
    "        torch.nn.utils.clip_grad_value_(decoder.parameters(), clip_value)\n",
    "        \n",
    "        # Update the parameters in the optimizer.\n",
    "        optimizer.step()\n",
    "            \n",
    "        # Get training statistics.\n",
    "        stats = 'Epoch [%d/%d], Step [%d/%d], Loss: %.4f, Perplexity: %5.4f' % (epoch, num_epochs, i_step, total_step, loss.item(), np.exp(loss.item()))\n",
    "        \n",
    "        # Print training statistics (on same line).\n",
    "        print('\\r' + stats, end=\"\")\n",
    "        sys.stdout.flush()\n",
    "        \n",
    "        # Print training statistics to file.\n",
    "        f.write(stats + '\\n')\n",
    "        f.flush()\n",
    "        \n",
    "        # Print training statistics (on different line).\n",
    "        if i_step % print_every == 0:\n",
    "            print('\\r' + stats)\n",
    "            \n",
    "        # Save the weights.\n",
    "        if i_step % save_every == 0:\n",
    "            torch.save(decoder.state_dict(), os.path.join('./models', 'decoder-%d.pkl' % epoch))\n",
    "            torch.save(encoder.state_dict(), os.path.join('./models', 'encoder-%d.pkl' % epoch))\n",
    "\n",
    "# Close the training log file.\n",
    "f.close()"
   ]
  },
  {
   "cell_type": "code",
   "execution_count": null,
   "metadata": {},
   "outputs": [],
   "source": []
  }
 ],
 "metadata": {
  "environment": {
   "name": "tf2-gpu.2-1.m48",
   "type": "gcloud",
   "uri": "gcr.io/deeplearning-platform-release/tf2-gpu.2-1:m48"
  },
  "kernelspec": {
   "display_name": "Python 3",
   "language": "python",
   "name": "python3"
  },
  "language_info": {
   "codemirror_mode": {
    "name": "ipython",
    "version": 3
   },
   "file_extension": ".py",
   "mimetype": "text/x-python",
   "name": "python",
   "nbconvert_exporter": "python",
   "pygments_lexer": "ipython3",
   "version": "3.7.6"
  }
 },
 "nbformat": 4,
 "nbformat_minor": 4
}
