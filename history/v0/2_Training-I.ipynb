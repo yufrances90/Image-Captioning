{
 "cells": [
  {
   "cell_type": "markdown",
   "metadata": {},
   "source": [
    "## Step 1: Training Setup"
   ]
  },
  {
   "cell_type": "code",
   "execution_count": 1,
   "metadata": {},
   "outputs": [],
   "source": [
    "import torch\n",
    "import torch.nn as nn\n",
    "import math\n",
    "import torch.utils.data as data\n",
    "import numpy as np\n",
    "import os\n",
    "import requests\n",
    "import time\n",
    "import sys\n",
    "\n",
    "from torchvision import transforms\n",
    "from pycocotools.coco import COCO\n",
    "\n",
    "from utils.data_loader import get_loader\n",
    "from utils.model import EncoderCNN, DecoderRNN"
   ]
  },
  {
   "cell_type": "code",
   "execution_count": 2,
   "metadata": {},
   "outputs": [],
   "source": [
    "## Select appropriate values for the Python variables below.\n",
    "batch_size = 32          # batch size\n",
    "vocab_threshold = 5        # minimum word count threshold\n",
    "vocab_from_file = True    # if True, load existing vocab file\n",
    "embed_size = 512           # dimensionality of image and word embeddings\n",
    "hidden_size = 512          # number of features in hidden state of the RNN decoder\n",
    "num_epochs = 3             # number of training epochs\n",
    "save_every = 1             # determines frequency of saving model weights\n",
    "print_every = 100          # determines window for printing average loss\n",
    "log_file = 'logs/training_log.txt'       # name of file with saved training loss and perplexity"
   ]
  },
  {
   "cell_type": "code",
   "execution_count": 3,
   "metadata": {},
   "outputs": [],
   "source": [
    "# Amend the image transform below.\n",
    "transform_train = transforms.Compose([ \n",
    "    transforms.Resize(256),                          # smaller edge of image resized to 256\n",
    "    transforms.RandomCrop(224),                      # get 224x224 crop from random location\n",
    "    transforms.RandomHorizontalFlip(),               # horizontally flip image with probability=0.5\n",
    "    transforms.ToTensor(),                           # convert the PIL Image to a tensor\n",
    "    transforms.Normalize((0.485, 0.456, 0.406),      # normalize image for pre-trained model\n",
    "                         (0.229, 0.224, 0.225))])"
   ]
  },
  {
   "cell_type": "code",
   "execution_count": 4,
   "metadata": {},
   "outputs": [
    {
     "name": "stdout",
     "output_type": "stream",
     "text": [
      "Vocabulary successfully loaded from vocab.pkl file!\n",
      "loading annotations into memory...\n",
      "Done (t=0.65s)\n",
      "creating index...\n",
      "index created!\n",
      "Obtaining caption lengths...\n"
     ]
    },
    {
     "data": {
      "application/vnd.jupyter.widget-view+json": {
       "model_id": "558e4c5428814649b28d7f4be52990c7",
       "version_major": 2,
       "version_minor": 0
      },
      "text/plain": [
       "HBox(children=(FloatProgress(value=0.0, max=414113.0), HTML(value='')))"
      ]
     },
     "metadata": {},
     "output_type": "display_data"
    },
    {
     "name": "stdout",
     "output_type": "stream",
     "text": [
      "\n"
     ]
    }
   ],
   "source": [
    "# Build data loader.\n",
    "data_loader = get_loader(transform=transform_train,\n",
    "                         mode='train',\n",
    "                         batch_size=batch_size,\n",
    "                         vocab_threshold=vocab_threshold,\n",
    "                         vocab_from_file=vocab_from_file)"
   ]
  },
  {
   "cell_type": "code",
   "execution_count": 5,
   "metadata": {},
   "outputs": [],
   "source": [
    "# The size of the vocabulary.\n",
    "vocab_size = len(data_loader.dataset.vocab)"
   ]
  },
  {
   "cell_type": "code",
   "execution_count": 6,
   "metadata": {},
   "outputs": [],
   "source": [
    "# Initialize the encoder and decoder. \n",
    "encoder = EncoderCNN(embed_size)\n",
    "decoder = DecoderRNN(embed_size, hidden_size, vocab_size)"
   ]
  },
  {
   "cell_type": "code",
   "execution_count": 7,
   "metadata": {},
   "outputs": [
    {
     "data": {
      "text/plain": [
       "DecoderRNN(\n",
       "  (embedding): Embedding(9955, 512)\n",
       "  (lstm): LSTM(512, 512, batch_first=True)\n",
       "  (fc): Linear(in_features=512, out_features=9955, bias=True)\n",
       ")"
      ]
     },
     "execution_count": 7,
     "metadata": {},
     "output_type": "execute_result"
    }
   ],
   "source": [
    "# Move models to GPU if CUDA is available. \n",
    "device = torch.device(\"cuda\" if torch.cuda.is_available() else \"cpu\")\n",
    "encoder.to(device)\n",
    "decoder.to(device)"
   ]
  },
  {
   "cell_type": "code",
   "execution_count": 8,
   "metadata": {},
   "outputs": [],
   "source": [
    "# Define the loss function. \n",
    "criterion = nn.CrossEntropyLoss().cuda() if torch.cuda.is_available() else nn.CrossEntropyLoss()"
   ]
  },
  {
   "cell_type": "code",
   "execution_count": 9,
   "metadata": {},
   "outputs": [],
   "source": [
    "# Specify the learnable parameters of the model.\n",
    "params = list(decoder.parameters()) + list(encoder.embed.parameters())"
   ]
  },
  {
   "cell_type": "code",
   "execution_count": 10,
   "metadata": {},
   "outputs": [],
   "source": [
    "# Define the optimizer.\n",
    "optimizer = torch.optim.ASGD(params, lr=0.01)"
   ]
  },
  {
   "cell_type": "code",
   "execution_count": 11,
   "metadata": {},
   "outputs": [],
   "source": [
    "# Set the total number of training steps per epoch.\n",
    "total_step = math.ceil(len(data_loader.dataset.caption_lengths) / data_loader.batch_sampler.batch_size)"
   ]
  },
  {
   "cell_type": "markdown",
   "metadata": {},
   "source": [
    "## Step 2: Train your Model"
   ]
  },
  {
   "cell_type": "code",
   "execution_count": 12,
   "metadata": {},
   "outputs": [],
   "source": [
    "f = open(log_file, 'w')"
   ]
  },
  {
   "cell_type": "code",
   "execution_count": null,
   "metadata": {},
   "outputs": [
    {
     "name": "stdout",
     "output_type": "stream",
     "text": [
      "Epoch [1/3], Step [100/12942], Loss: 9.0331, Perplexity: 8376.1209\n",
      "Epoch [1/3], Step [200/12942], Loss: 8.7504, Perplexity: 6313.2946\n",
      "Epoch [1/3], Step [300/12942], Loss: 8.3646, Perplexity: 4292.4280\n",
      "Epoch [1/3], Step [400/12942], Loss: 7.5638, Perplexity: 1927.2382\n",
      "Epoch [1/3], Step [500/12942], Loss: 7.2728, Perplexity: 1440.5976\n",
      "Epoch [1/3], Step [600/12942], Loss: 7.1054, Perplexity: 1218.5400\n",
      "Epoch [1/3], Step [700/12942], Loss: 6.8978, Perplexity: 990.10737\n",
      "Epoch [1/3], Step [800/12942], Loss: 6.1229, Perplexity: 456.19726\n",
      "Epoch [1/3], Step [900/12942], Loss: 6.0771, Perplexity: 435.76469\n",
      "Epoch [1/3], Step [1000/12942], Loss: 6.1330, Perplexity: 460.8360\n",
      "Epoch [1/3], Step [1100/12942], Loss: 6.2891, Perplexity: 538.6807\n",
      "Epoch [1/3], Step [1200/12942], Loss: 5.3247, Perplexity: 205.3390\n",
      "Epoch [1/3], Step [1300/12942], Loss: 5.5585, Perplexity: 259.4231\n",
      "Epoch [1/3], Step [1400/12942], Loss: 5.5357, Perplexity: 253.5978\n",
      "Epoch [1/3], Step [1500/12942], Loss: 5.0822, Perplexity: 161.1254\n",
      "Epoch [1/3], Step [1600/12942], Loss: 5.0513, Perplexity: 156.2228\n",
      "Epoch [1/3], Step [1700/12942], Loss: 5.6604, Perplexity: 287.2724\n",
      "Epoch [1/3], Step [1800/12942], Loss: 4.8123, Perplexity: 123.0103\n",
      "Epoch [1/3], Step [1900/12942], Loss: 5.0498, Perplexity: 155.9914\n",
      "Epoch [1/3], Step [2000/12942], Loss: 4.8799, Perplexity: 131.6149\n",
      "Epoch [1/3], Step [2100/12942], Loss: 4.8465, Perplexity: 127.2963\n",
      "Epoch [1/3], Step [2200/12942], Loss: 4.9122, Perplexity: 135.9387\n",
      "Epoch [1/3], Step [2300/12942], Loss: 4.7389, Perplexity: 114.3080\n",
      "Epoch [1/3], Step [2400/12942], Loss: 4.9763, Perplexity: 144.9393\n",
      "Epoch [1/3], Step [2500/12942], Loss: 5.0175, Perplexity: 151.0335\n",
      "Epoch [1/3], Step [2600/12942], Loss: 4.5790, Perplexity: 97.42062\n",
      "Epoch [1/3], Step [2700/12942], Loss: 4.7190, Perplexity: 112.0584\n",
      "Epoch [1/3], Step [2800/12942], Loss: 4.7059, Perplexity: 110.5960\n",
      "Epoch [1/3], Step [2900/12942], Loss: 5.0471, Perplexity: 155.5673\n",
      "Epoch [1/3], Step [3000/12942], Loss: 4.3778, Perplexity: 79.66596\n",
      "Epoch [1/3], Step [3100/12942], Loss: 4.9730, Perplexity: 144.4538\n",
      "Epoch [1/3], Step [3200/12942], Loss: 4.4062, Perplexity: 81.95742\n",
      "Epoch [1/3], Step [3300/12942], Loss: 4.5474, Perplexity: 94.38354\n",
      "Epoch [1/3], Step [3400/12942], Loss: 4.4631, Perplexity: 86.75812\n",
      "Epoch [1/3], Step [3500/12942], Loss: 4.2033, Perplexity: 66.90840\n",
      "Epoch [1/3], Step [3600/12942], Loss: 4.2380, Perplexity: 69.26657\n",
      "Epoch [1/3], Step [3700/12942], Loss: 4.1856, Perplexity: 65.73608\n",
      "Epoch [1/3], Step [3800/12942], Loss: 4.2148, Perplexity: 67.68309\n",
      "Epoch [1/3], Step [3900/12942], Loss: 4.1582, Perplexity: 63.95878\n",
      "Epoch [1/3], Step [4000/12942], Loss: 4.7858, Perplexity: 119.8028\n",
      "Epoch [1/3], Step [4100/12942], Loss: 4.2484, Perplexity: 69.99273\n",
      "Epoch [1/3], Step [4200/12942], Loss: 4.2295, Perplexity: 68.68566\n",
      "Epoch [1/3], Step [4300/12942], Loss: 4.2209, Perplexity: 68.09528\n",
      "Epoch [1/3], Step [4400/12942], Loss: 3.9879, Perplexity: 53.94200\n",
      "Epoch [1/3], Step [4500/12942], Loss: 4.2421, Perplexity: 69.55358\n",
      "Epoch [1/3], Step [4600/12942], Loss: 4.5413, Perplexity: 93.81495\n",
      "Epoch [1/3], Step [4700/12942], Loss: 4.1637, Perplexity: 64.30766\n",
      "Epoch [1/3], Step [4800/12942], Loss: 4.2659, Perplexity: 71.22652\n",
      "Epoch [1/3], Step [4900/12942], Loss: 4.0822, Perplexity: 59.27812\n",
      "Epoch [1/3], Step [5000/12942], Loss: 3.9441, Perplexity: 51.63181\n",
      "Epoch [1/3], Step [5100/12942], Loss: 3.7821, Perplexity: 43.90647\n",
      "Epoch [1/3], Step [5200/12942], Loss: 4.4778, Perplexity: 88.04091\n",
      "Epoch [1/3], Step [5300/12942], Loss: 4.4398, Perplexity: 84.75651\n",
      "Epoch [1/3], Step [5400/12942], Loss: 3.9346, Perplexity: 51.14231\n",
      "Epoch [1/3], Step [5500/12942], Loss: 4.0227, Perplexity: 55.85049\n",
      "Epoch [1/3], Step [5600/12942], Loss: 4.0838, Perplexity: 59.36934\n",
      "Epoch [1/3], Step [5700/12942], Loss: 4.2244, Perplexity: 68.33225\n",
      "Epoch [1/3], Step [5800/12942], Loss: 4.0979, Perplexity: 60.21281\n",
      "Epoch [1/3], Step [5900/12942], Loss: 4.2051, Perplexity: 67.02684\n",
      "Epoch [1/3], Step [6000/12942], Loss: 4.0442, Perplexity: 57.06417\n",
      "Epoch [1/3], Step [6100/12942], Loss: 4.3217, Perplexity: 75.31915\n",
      "Epoch [1/3], Step [6200/12942], Loss: 3.9719, Perplexity: 53.08688\n",
      "Epoch [1/3], Step [6300/12942], Loss: 3.7900, Perplexity: 44.25631\n",
      "Epoch [1/3], Step [6400/12942], Loss: 4.1139, Perplexity: 61.18405\n",
      "Epoch [1/3], Step [6500/12942], Loss: 3.8879, Perplexity: 48.80938\n",
      "Epoch [1/3], Step [6600/12942], Loss: 4.1202, Perplexity: 61.56917\n",
      "Epoch [1/3], Step [6700/12942], Loss: 4.0225, Perplexity: 55.83830\n",
      "Epoch [1/3], Step [6800/12942], Loss: 4.1732, Perplexity: 64.92509\n",
      "Epoch [1/3], Step [6900/12942], Loss: 3.9066, Perplexity: 49.72910\n",
      "Epoch [1/3], Step [7000/12942], Loss: 4.0485, Perplexity: 57.31192\n",
      "Epoch [1/3], Step [7100/12942], Loss: 4.0626, Perplexity: 58.12696\n",
      "Epoch [1/3], Step [7200/12942], Loss: 4.0557, Perplexity: 57.72749\n",
      "Epoch [1/3], Step [7300/12942], Loss: 3.9843, Perplexity: 53.7491\n",
      "Epoch [1/3], Step [7400/12942], Loss: 4.6408, Perplexity: 103.6266\n",
      "Epoch [1/3], Step [7500/12942], Loss: 3.7716, Perplexity: 43.44897\n",
      "Epoch [1/3], Step [7600/12942], Loss: 4.0649, Perplexity: 58.2605\n",
      "Epoch [1/3], Step [7700/12942], Loss: 3.9908, Perplexity: 54.09973\n",
      "Epoch [1/3], Step [7800/12942], Loss: 3.9355, Perplexity: 51.18985\n",
      "Epoch [1/3], Step [7900/12942], Loss: 4.1516, Perplexity: 63.53469\n",
      "Epoch [1/3], Step [8000/12942], Loss: 3.8148, Perplexity: 45.36787\n",
      "Epoch [1/3], Step [8100/12942], Loss: 3.8035, Perplexity: 44.85582\n",
      "Epoch [1/3], Step [8200/12942], Loss: 4.0650, Perplexity: 58.26397\n",
      "Epoch [1/3], Step [8300/12942], Loss: 3.9991, Perplexity: 54.54712\n",
      "Epoch [1/3], Step [8400/12942], Loss: 4.3146, Perplexity: 74.7859\n",
      "Epoch [1/3], Step [8500/12942], Loss: 3.6446, Perplexity: 38.26845\n",
      "Epoch [1/3], Step [8600/12942], Loss: 4.0320, Perplexity: 56.37594\n",
      "Epoch [1/3], Step [8700/12942], Loss: 4.1624, Perplexity: 64.22463\n",
      "Epoch [1/3], Step [8800/12942], Loss: 3.8270, Perplexity: 45.92381\n",
      "Epoch [1/3], Step [8900/12942], Loss: 3.5424, Perplexity: 34.55081\n",
      "Epoch [1/3], Step [9000/12942], Loss: 3.7703, Perplexity: 43.39245\n",
      "Epoch [1/3], Step [9100/12942], Loss: 4.1947, Perplexity: 66.33701\n",
      "Epoch [1/3], Step [9200/12942], Loss: 3.9644, Perplexity: 52.68843\n",
      "Epoch [1/3], Step [9300/12942], Loss: 4.4320, Perplexity: 84.10289\n",
      "Epoch [1/3], Step [9400/12942], Loss: 3.9164, Perplexity: 50.21837\n",
      "Epoch [1/3], Step [9500/12942], Loss: 3.8592, Perplexity: 47.4272\n",
      "Epoch [1/3], Step [9600/12942], Loss: 4.5607, Perplexity: 95.65261\n",
      "Epoch [1/3], Step [9700/12942], Loss: 4.0912, Perplexity: 59.80878\n",
      "Epoch [1/3], Step [9800/12942], Loss: 3.8356, Perplexity: 46.32337\n",
      "Epoch [1/3], Step [9900/12942], Loss: 3.8769, Perplexity: 48.27597\n",
      "Epoch [1/3], Step [10000/12942], Loss: 3.7868, Perplexity: 44.1137\n",
      "Epoch [1/3], Step [10100/12942], Loss: 3.6181, Perplexity: 37.26544\n",
      "Epoch [1/3], Step [10200/12942], Loss: 3.8467, Perplexity: 46.83923\n",
      "Epoch [1/3], Step [10300/12942], Loss: 3.8886, Perplexity: 48.84088\n",
      "Epoch [1/3], Step [10400/12942], Loss: 4.3164, Perplexity: 74.91649\n",
      "Epoch [1/3], Step [10500/12942], Loss: 3.9202, Perplexity: 50.4100\n",
      "Epoch [1/3], Step [10600/12942], Loss: 3.7490, Perplexity: 42.47677\n",
      "Epoch [1/3], Step [10700/12942], Loss: 3.9783, Perplexity: 53.42688\n",
      "Epoch [1/3], Step [10800/12942], Loss: 3.7392, Perplexity: 42.06425\n",
      "Epoch [1/3], Step [10900/12942], Loss: 4.0977, Perplexity: 60.20028\n",
      "Epoch [1/3], Step [11000/12942], Loss: 3.7025, Perplexity: 40.54674\n",
      "Epoch [1/3], Step [11100/12942], Loss: 3.7232, Perplexity: 41.39663\n",
      "Epoch [1/3], Step [11200/12942], Loss: 3.8369, Perplexity: 46.3806\n",
      "Epoch [1/3], Step [11300/12942], Loss: 3.5819, Perplexity: 35.9405\n",
      "Epoch [1/3], Step [11400/12942], Loss: 3.5586, Perplexity: 35.1124\n",
      "Epoch [1/3], Step [11500/12942], Loss: 3.8469, Perplexity: 46.84643\n",
      "Epoch [1/3], Step [11600/12942], Loss: 3.7129, Perplexity: 40.97155\n",
      "Epoch [1/3], Step [11700/12942], Loss: 3.6907, Perplexity: 40.0710\n",
      "Epoch [1/3], Step [11800/12942], Loss: 4.0810, Perplexity: 59.20670\n",
      "Epoch [1/3], Step [11900/12942], Loss: 3.5471, Perplexity: 34.71223\n",
      "Epoch [1/3], Step [12000/12942], Loss: 3.8527, Perplexity: 47.12036\n",
      "Epoch [1/3], Step [12100/12942], Loss: 3.8952, Perplexity: 49.16729\n",
      "Epoch [1/3], Step [12200/12942], Loss: 3.9285, Perplexity: 50.83258\n",
      "Epoch [1/3], Step [12300/12942], Loss: 3.7097, Perplexity: 40.84098\n",
      "Epoch [1/3], Step [12400/12942], Loss: 3.7141, Perplexity: 41.0199\n",
      "Epoch [1/3], Step [12500/12942], Loss: 3.3383, Perplexity: 28.1714\n",
      "Epoch [1/3], Step [12600/12942], Loss: 3.9922, Perplexity: 54.1728\n",
      "Epoch [1/3], Step [12700/12942], Loss: 4.4525, Perplexity: 85.84439\n",
      "Epoch [1/3], Step [12800/12942], Loss: 3.8063, Perplexity: 44.98476\n",
      "Epoch [1/3], Step [12900/12942], Loss: 3.9132, Perplexity: 50.05781\n",
      "Epoch [2/3], Step [100/12942], Loss: 6.5684, Perplexity: 712.22906\n",
      "Epoch [2/3], Step [200/12942], Loss: 3.6479, Perplexity: 38.39331\n",
      "Epoch [2/3], Step [300/12942], Loss: 3.9119, Perplexity: 49.9947\n",
      "Epoch [2/3], Step [400/12942], Loss: 3.7597, Perplexity: 42.93631\n",
      "Epoch [2/3], Step [500/12942], Loss: 3.8665, Perplexity: 47.77517\n",
      "Epoch [2/3], Step [600/12942], Loss: 3.8843, Perplexity: 48.63346\n",
      "Epoch [2/3], Step [700/12942], Loss: 3.8390, Perplexity: 46.4806\n",
      "Epoch [2/3], Step [800/12942], Loss: 3.6638, Perplexity: 39.0084\n",
      "Epoch [2/3], Step [837/12942], Loss: 3.8671, Perplexity: 47.8020"
     ]
    }
   ],
   "source": [
    "for epoch in range(1, num_epochs+1):\n",
    "    \n",
    "    for i_step in range(1, total_step+1):\n",
    "        \n",
    "        # Randomly sample a caption length, and sample indices with that length.\n",
    "        indices = data_loader.dataset.get_train_indices()\n",
    "        # Create and assign a batch sampler to retrieve a batch with the sampled indices.\n",
    "        new_sampler = data.sampler.SubsetRandomSampler(indices=indices)\n",
    "        data_loader.batch_sampler.sampler = new_sampler\n",
    "        \n",
    "        # Obtain the batch.\n",
    "        images, captions = next(iter(data_loader))\n",
    "\n",
    "        # Move batch of images and captions to GPU if CUDA is available.\n",
    "        images = images.to(device)\n",
    "        captions = captions.to(device)\n",
    "        \n",
    "        # Zero the gradients.\n",
    "        decoder.zero_grad()\n",
    "        encoder.zero_grad()\n",
    "        \n",
    "        # Pass the inputs through the CNN-RNN model.\n",
    "        features = encoder(images)\n",
    "        outputs = decoder(features, captions)\n",
    "        \n",
    "        # Calculate the batch loss.\n",
    "        loss = criterion(outputs.view(-1, vocab_size), captions.view(-1))\n",
    "        \n",
    "        # Backward pass.\n",
    "        loss.backward()\n",
    "        \n",
    "        # Update the parameters in the optimizer.\n",
    "        optimizer.step()\n",
    "            \n",
    "        # Get training statistics.\n",
    "        stats = 'Epoch [%d/%d], Step [%d/%d], Loss: %.4f, Perplexity: %5.4f' % (epoch, num_epochs, i_step, total_step, loss.item(), np.exp(loss.item()))\n",
    "        \n",
    "        # Print training statistics (on same line).\n",
    "        print('\\r' + stats, end=\"\")\n",
    "        sys.stdout.flush()\n",
    "        \n",
    "        # Print training statistics to file.\n",
    "        f.write(stats + '\\n')\n",
    "        f.flush()\n",
    "        \n",
    "        # Print training statistics (on different line).\n",
    "        if i_step % print_every == 0:\n",
    "            print('\\r' + stats)\n",
    "            \n",
    "    # Save the weights.\n",
    "    if epoch % save_every == 0:\n",
    "        torch.save(decoder.state_dict(), os.path.join('./models', 'decoder-%d.pkl' % epoch))\n",
    "        torch.save(encoder.state_dict(), os.path.join('./models', 'encoder-%d.pkl' % epoch))\n",
    "\n",
    "# Close the training log file.\n",
    "f.close()"
   ]
  },
  {
   "cell_type": "code",
   "execution_count": null,
   "metadata": {},
   "outputs": [],
   "source": []
  }
 ],
 "metadata": {
  "environment": {
   "name": "tf2-gpu.2-1.m48",
   "type": "gcloud",
   "uri": "gcr.io/deeplearning-platform-release/tf2-gpu.2-1:m48"
  },
  "kernelspec": {
   "display_name": "Python 3",
   "language": "python",
   "name": "python3"
  },
  "language_info": {
   "codemirror_mode": {
    "name": "ipython",
    "version": 3
   },
   "file_extension": ".py",
   "mimetype": "text/x-python",
   "name": "python",
   "nbconvert_exporter": "python",
   "pygments_lexer": "ipython3",
   "version": "3.7.6"
  }
 },
 "nbformat": 4,
 "nbformat_minor": 4
}
